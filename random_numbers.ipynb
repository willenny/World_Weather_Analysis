{
 "cells": [
  {
   "cell_type": "code",
   "execution_count": 1,
   "id": "f22a65ea",
   "metadata": {},
   "outputs": [],
   "source": [
    "import random"
   ]
  },
  {
   "cell_type": "code",
   "execution_count": 2,
   "id": "d6040da0",
   "metadata": {},
   "outputs": [
    {
     "data": {
      "text/plain": [
       "[47.330812964364156,\n",
       " -44.43847197412538,\n",
       " -59.36274621218352,\n",
       " -31.51317965355112,\n",
       " -56.97370786970836,\n",
       " 54.674311923677166,\n",
       " 33.523312924744104,\n",
       " -76.59389128823427,\n",
       " -35.31780445664634,\n",
       " 68.97104384965209]"
      ]
     },
     "execution_count": 2,
     "metadata": {},
     "output_type": "execute_result"
    }
   ],
   "source": [
    "x = 1\n",
    "latitudes = []\n",
    "while x < 11:\n",
    "    random_lat = random.randint(-90, 89) + random.random()\n",
    "    latitudes.append(random_lat)\n",
    "    x += 1\n",
    "latitudes"
   ]
  },
  {
   "cell_type": "code",
   "execution_count": 3,
   "id": "71674379",
   "metadata": {},
   "outputs": [],
   "source": [
    "# Import the NumPy module.\n",
    "import numpy as np"
   ]
  },
  {
   "cell_type": "code",
   "execution_count": 4,
   "id": "c4cf3f0a",
   "metadata": {},
   "outputs": [
    {
     "data": {
      "text/plain": [
       "array([-3.51344581e+01, -2.58394204e+00,  4.42507651e+01,  7.59618392e+01,\n",
       "        1.17026899e+00, -4.73358081e+00, -3.38283232e+01,  3.21967771e+01,\n",
       "        6.47469664e+01, -5.77289224e+01, -8.92352163e+01,  8.94765347e+01,\n",
       "       -3.09375934e+00, -7.86433435e+01,  3.42118224e+01, -6.69216912e+01,\n",
       "        2.17271766e+01,  7.79371653e-02,  5.14363849e+01, -4.08968896e+00,\n",
       "        7.03378146e+01,  7.45556347e+01,  6.52414174e+01, -4.56876381e+01,\n",
       "       -3.65948396e+01,  6.65644002e+01, -2.07473607e+00,  1.70976159e+01,\n",
       "       -3.85133192e+01,  8.46628115e+00, -1.46917195e+01,  8.89718272e+01,\n",
       "       -7.88283706e+01,  1.60394790e+01,  1.67300959e+00, -3.55321791e+01,\n",
       "       -6.31641973e+01, -8.93135436e+01,  1.45866575e+01,  6.28529499e+01,\n",
       "        7.06136394e+01, -2.05121351e+01,  8.64771941e+01, -5.34617433e+01,\n",
       "        7.09922880e+00,  5.30179555e+01,  1.66738532e+01, -4.85685524e+01,\n",
       "        5.59540045e+00,  8.91080717e+01])"
      ]
     },
     "execution_count": 4,
     "metadata": {},
     "output_type": "execute_result"
    }
   ],
   "source": [
    "np.random.uniform(-90.000, 90.000, size = 50)"
   ]
  },
  {
   "cell_type": "code",
   "execution_count": 5,
   "id": "b913b080",
   "metadata": {},
   "outputs": [],
   "source": [
    "# Import timeit.\n",
    "import timeit"
   ]
  },
  {
   "cell_type": "code",
   "execution_count": 6,
   "id": "7c96cda2",
   "metadata": {},
   "outputs": [
    {
     "name": "stdout",
     "output_type": "stream",
     "text": [
      "56.3 µs ± 4.17 µs per loop (mean ± std. dev. of 7 runs, 10000 loops each)\n"
     ]
    }
   ],
   "source": [
    "%timeit np.random.uniform(-90.000, 90.000, size=1500)"
   ]
  },
  {
   "cell_type": "code",
   "execution_count": 7,
   "id": "501589cc",
   "metadata": {},
   "outputs": [
    {
     "name": "stdout",
     "output_type": "stream",
     "text": [
      "6.91 ms ± 389 µs per loop (mean ± std. dev. of 7 runs, 100 loops each)\n"
     ]
    }
   ],
   "source": [
    "def latitudes(size):\n",
    "    latitudes = []\n",
    "    x = 0\n",
    "    while x < (size):\n",
    "        random_lat = random.randint(-90, 90) + random.random()\n",
    "        latitudes.append(random_lat)\n",
    "        x += 1\n",
    "    return latitudes\n",
    "# Call the function with 1500.\n",
    "%timeit latitudes(1500)"
   ]
  },
  {
   "cell_type": "code",
   "execution_count": null,
   "id": "15a1c9af",
   "metadata": {},
   "outputs": [],
   "source": []
  }
 ],
 "metadata": {
  "kernelspec": {
   "display_name": "PythonData",
   "language": "python",
   "name": "pythondata"
  },
  "language_info": {
   "codemirror_mode": {
    "name": "ipython",
    "version": 3
   },
   "file_extension": ".py",
   "mimetype": "text/x-python",
   "name": "python",
   "nbconvert_exporter": "python",
   "pygments_lexer": "ipython3",
   "version": "3.7.13"
  }
 },
 "nbformat": 4,
 "nbformat_minor": 5
}
